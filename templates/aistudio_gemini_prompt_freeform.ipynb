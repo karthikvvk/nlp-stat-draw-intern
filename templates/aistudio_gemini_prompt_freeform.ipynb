{
  "cells": [
    {
      "cell_type": "markdown",
      "metadata": {
        "id": "view-in-github",
        "colab_type": "text"
      },
      "source": [
        "<a href=\"https://colab.research.google.com/github/karthikvvk/nlp-stat-draw-intern/blob/main/templates/aistudio_gemini_prompt_freeform.ipynb\" target=\"_parent\"><img src=\"https://colab.research.google.com/assets/colab-badge.svg\" alt=\"Open In Colab\"/></a>"
      ]
    },
    {
      "cell_type": "markdown",
      "metadata": {
        "id": "Tce3stUlHN0L"
      },
      "source": [
        "##### Copyright 2023 Google LLC"
      ]
    },
    {
      "cell_type": "code",
      "execution_count": null,
      "metadata": {
        "cellView": "form",
        "id": "tuOe1ymfHZPu"
      },
      "outputs": [],
      "source": [
        "# @title Licensed under the Apache License, Version 2.0 (the \"License\");\n",
        "# you may not use this file except in compliance with the License.\n",
        "# You may obtain a copy of the License at\n",
        "#\n",
        "# https://www.apache.org/licenses/LICENSE-2.0\n",
        "#\n",
        "# Unless required by applicable law or agreed to in writing, software\n",
        "# distributed under the License is distributed on an \"AS IS\" BASIS,\n",
        "# WITHOUT WARRANTIES OR CONDITIONS OF ANY KIND, either express or implied.\n",
        "# See the License for the specific language governing permissions and\n",
        "# limitations under the License."
      ]
    },
    {
      "cell_type": "markdown",
      "metadata": {
        "id": "FKwyTRdwB8aW"
      },
      "source": [
        "## Setup"
      ]
    },
    {
      "cell_type": "code",
      "source": [
        "import os\n",
        "print(os.getcwd())"
      ],
      "metadata": {
        "colab": {
          "base_uri": "https://localhost:8080/"
        },
        "id": "W8bNTzZiBFb8",
        "outputId": "da1e7966-2178-472b-e4aa-3833ac453613"
      },
      "execution_count": 7,
      "outputs": [
        {
          "output_type": "stream",
          "name": "stdout",
          "text": [
            "/content\n"
          ]
        }
      ]
    },
    {
      "cell_type": "code",
      "execution_count": 5,
      "metadata": {
        "id": "RXInneX6xx7c",
        "colab": {
          "base_uri": "https://localhost:8080/"
        },
        "outputId": "9ea00bdb-e589-44a4-eda1-742376b29bd3"
      },
      "outputs": [
        {
          "output_type": "stream",
          "name": "stdout",
          "text": [
            "\u001b[2K   \u001b[90m━━━━━━━━━━━━━━━━━━━━━━━━━━━━━━━━━━━━━━━━\u001b[0m \u001b[32m13.0/13.0 MB\u001b[0m \u001b[31m87.1 MB/s\u001b[0m eta \u001b[36m0:00:00\u001b[0m\n",
            "\u001b[?25h"
          ]
        }
      ],
      "source": [
        "!pip install -U -q \"google-generativeai>=0.8.2\" pandas==2.2.2\n"
      ]
    },
    {
      "cell_type": "code",
      "execution_count": 8,
      "metadata": {
        "id": "kWIuwKG2_oWE",
        "colab": {
          "base_uri": "https://localhost:8080/",
          "height": 1000
        },
        "outputId": "4ae7d743-4496-429b-cfdd-23560b03e219"
      },
      "outputs": [
        {
          "output_type": "stream",
          "name": "stdout",
          "text": [
            "enter your query: which country buy more cars\n",
            "<class 'pandas.core.frame.DataFrame'>\n",
            "RangeIndex: 2747 entries, 0 to 2746\n",
            "Data columns (total 20 columns):\n",
            " #   Column                Non-Null Count  Dtype  \n",
            "---  ------                --------------  -----  \n",
            " 0   ORDERNUMBER           2747 non-null   int64  \n",
            " 1   QUANTITYORDERED       2747 non-null   int64  \n",
            " 2   PRICEEACH             2747 non-null   float64\n",
            " 3   ORDERLINENUMBER       2747 non-null   int64  \n",
            " 4   SALES                 2747 non-null   float64\n",
            " 5   ORDERDATE             2747 non-null   object \n",
            " 6   DAYS_SINCE_LASTORDER  2747 non-null   int64  \n",
            " 7   STATUS                2747 non-null   object \n",
            " 8   PRODUCTLINE           2747 non-null   object \n",
            " 9   MSRP                  2747 non-null   int64  \n",
            " 10  PRODUCTCODE           2747 non-null   object \n",
            " 11  CUSTOMERNAME          2747 non-null   object \n",
            " 12  PHONE                 2747 non-null   object \n",
            " 13  ADDRESSLINE1          2747 non-null   object \n",
            " 14  CITY                  2747 non-null   object \n",
            " 15  POSTALCODE            2747 non-null   object \n",
            " 16  COUNTRY               2747 non-null   object \n",
            " 17  CONTACTLASTNAME       2747 non-null   object \n",
            " 18  CONTACTFIRSTNAME      2747 non-null   object \n",
            " 19  DEALSIZE              2747 non-null   object \n",
            "dtypes: float64(2), int64(5), object(13)\n",
            "memory usage: 429.3+ KB\n",
            "\n",
            "dataset insights:\n",
            "None\n",
            "         ORDERNUMBER  QUANTITYORDERED    PRICEEACH  ORDERLINENUMBER  \\\n",
            "count    2747.000000      2747.000000  2747.000000      2747.000000   \n",
            "unique           NaN              NaN          NaN              NaN   \n",
            "top              NaN              NaN          NaN              NaN   \n",
            "freq             NaN              NaN          NaN              NaN   \n",
            "mean    10259.761558        35.103021   101.098952         6.491081   \n",
            "std        91.877521         9.762135    42.042549         4.230544   \n",
            "min     10100.000000         6.000000    26.880000         1.000000   \n",
            "25%     10181.000000        27.000000    68.745000         3.000000   \n",
            "50%     10264.000000        35.000000    95.550000         6.000000   \n",
            "75%     10334.500000        43.000000   127.100000         9.000000   \n",
            "max     10425.000000        97.000000   252.870000        18.000000   \n",
            "\n",
            "               SALES   ORDERDATE  DAYS_SINCE_LASTORDER   STATUS   PRODUCTLINE  \\\n",
            "count    2747.000000        2747           2747.000000     2747          2747   \n",
            "unique           NaN         246                   NaN        6             7   \n",
            "top              NaN  14-11-2018                   NaN  Shipped  Classic Cars   \n",
            "freq             NaN          38                   NaN     2541           949   \n",
            "mean     3553.047583         NaN           1757.085912      NaN           NaN   \n",
            "std      1838.953901         NaN            819.280576      NaN           NaN   \n",
            "min       482.130000         NaN             42.000000      NaN           NaN   \n",
            "25%      2204.350000         NaN           1077.000000      NaN           NaN   \n",
            "50%      3184.800000         NaN           1761.000000      NaN           NaN   \n",
            "75%      4503.095000         NaN           2436.500000      NaN           NaN   \n",
            "max     14082.800000         NaN           3562.000000      NaN           NaN   \n",
            "\n",
            "               MSRP PRODUCTCODE           CUSTOMERNAME           PHONE  \\\n",
            "count   2747.000000        2747                   2747            2747   \n",
            "unique          NaN         109                     89              88   \n",
            "top             NaN    S18_3232  Euro Shopping Channel  (91) 555 94 44   \n",
            "freq            NaN          51                    259             259   \n",
            "mean     100.691664         NaN                    NaN             NaN   \n",
            "std       40.114802         NaN                    NaN             NaN   \n",
            "min       33.000000         NaN                    NaN             NaN   \n",
            "25%       68.000000         NaN                    NaN             NaN   \n",
            "50%       99.000000         NaN                    NaN             NaN   \n",
            "75%      124.000000         NaN                    NaN             NaN   \n",
            "max      214.000000         NaN                    NaN             NaN   \n",
            "\n",
            "              ADDRESSLINE1    CITY POSTALCODE COUNTRY CONTACTLASTNAME  \\\n",
            "count                 2747    2747       2747    2747            2747   \n",
            "unique                  89      71         73      19              76   \n",
            "top     C- Moralzarzal, 86  Madrid      28034     USA          Freyre   \n",
            "freq                   259     304        259     928             259   \n",
            "mean                   NaN     NaN        NaN     NaN             NaN   \n",
            "std                    NaN     NaN        NaN     NaN             NaN   \n",
            "min                    NaN     NaN        NaN     NaN             NaN   \n",
            "25%                    NaN     NaN        NaN     NaN             NaN   \n",
            "50%                    NaN     NaN        NaN     NaN             NaN   \n",
            "75%                    NaN     NaN        NaN     NaN             NaN   \n",
            "max                    NaN     NaN        NaN     NaN             NaN   \n",
            "\n",
            "       CONTACTFIRSTNAME DEALSIZE  \n",
            "count              2747     2747  \n",
            "unique               72        3  \n",
            "top               Diego   Medium  \n",
            "freq                259     1349  \n",
            "mean                NaN      NaN  \n",
            "std                 NaN      NaN  \n",
            "min                 NaN      NaN  \n",
            "25%                 NaN      NaN  \n",
            "50%                 NaN      NaN  \n",
            "75%                 NaN      NaN  \n",
            "max                 NaN      NaN  \n",
            "\n",
            "Dataset:\n",
            "\n",
            " ORDERNUMBER  QUANTITYORDERED  PRICEEACH  ORDERLINENUMBER   SALES  ORDERDATE  DAYS_SINCE_LASTORDER  STATUS PRODUCTLINE  MSRP PRODUCTCODE               CUSTOMERNAME            PHONE                            ADDRESSLINE1        CITY POSTALCODE   COUNTRY CONTACTLASTNAME CONTACTFIRSTNAME DEALSIZE\n",
            "       10107               30      95.70                2 2871.00 24-02-2018                   828 Shipped Motorcycles    95    S10_1678          Land of Toys Inc.       2125557818                 897 Long Airport Avenue         NYC      10022       USA              Yu             Kwai    Small\n",
            "       10121               34      81.35                5 2765.90 07-05-2018                   757 Shipped Motorcycles    95    S10_1678         Reims Collectables       26.47.1555                      59 rue de l'Abbaye       Reims      51100    France         Henriot             Paul    Small\n",
            "       10134               41      94.74                2 3884.34 01-07-2018                   703 Shipped Motorcycles    95    S10_1678            Lyon Souveniers +33 1 46 62 7555           27 rue du Colonel Pierre Avia       Paris      75508    France        Da Cunha           Daniel   Medium\n",
            "       10145               45      83.26                6 3746.70 25-08-2018                   649 Shipped Motorcycles    95    S10_1678          Toys4GrownUps.com       6265557265                      78934 Hillside Dr.    Pasadena      90003       USA           Young            Julie   Medium\n",
            "       10168               36      96.66                1 3479.76 28-10-2018                   586 Shipped Motorcycles    95    S10_1678       Technics Stores Inc.       6505556809                       9408 Furth Circle  Burlingame      94217       USA          Hirano             Juri   Medium\n",
            "       10180               29      86.13                9 2497.77 11-11-2018                   573 Shipped Motorcycles    95    S10_1678   Daedalus Designs Imports       20.16.1555                 184, chausse de Tournai       Lille      59000    France           Rance          Martine    Small\n",
            "       10188               48     114.84                1 5512.32 18-11-2018                   567 Shipped Motorcycles    95    S10_1678               Herkku Gifts    +47 2267 3215             Drammen 121, PR 744 Sentrum      Bergen     N 5804    Norway          Oeztan           Veysel   Medium\n",
            "       10211               41     114.84               14 4708.44 15-01-2019                   510 Shipped Motorcycles    95    S10_1678           Auto Canal Petit   (1) 47.55.6555                       25, rue Lauriston       Paris      75016    France         Perrier        Dominique   Medium\n",
            "       10223               37     107.18                1 3965.66 20-02-2019                   475 Shipped Motorcycles    95    S10_1678 Australian Collectors, Co.     03 9520 4555                       636 St Kilda Road   Melbourne       3004 Australia        Ferguson            Peter   Medium\n",
            "       10237               23     101.44                7 2333.12 05-04-2019                   432 Shipped Motorcycles    95    S10_1678            Vitachrome Inc.       2125551500                       2678 Kingston Rd.         NYC      10022       USA           Frick          Michael    Small\n",
            "       10251               28     113.88                2 3188.64 18-05-2019                   390 Shipped Motorcycles    95    S10_1678    Tekni Collectables Inc.       2015559350                           7476 Moss Rd.      Newark      94019       USA           Brown          William   Medium\n",
            "       10263               34     108.14                2 3676.76 28-06-2019                   350 Shipped Motorcycles    95    S10_1678            Gift Depot Inc.       2035552570                     25593 South Bay Ln. Bridgewater      97562       USA            King            Julie   Medium\n",
            "       10275               45      92.83                1 4177.35 23-07-2019                   326 Shipped Motorcycles    95    S10_1678          La Rochelle Gifts       40.67.8555            67, rue des Cinquante Otages      Nantes      44000    France         Labrune           Janine   Medium\n",
            "       10285               36     113.88                6 4099.68 27-08-2019                   292 Shipped Motorcycles    95    S10_1678       Marta's Replicas Co.       6175558555                     39323 Spinnaker Dr.   Cambridge      51247       USA       Hernandez            Marta   Medium\n",
            "       10299               23     112.93                9 2597.39 30-09-2019                   259 Shipped Motorcycles    95    S10_1678       Toys of Finland, Co.      90-224 8555                           Keskuskatu 45    Helsinki      21240   Finland       Karttunen            Matti    Small\n",
            "       10309               41     107.18                5 4394.38 15-10-2019                   245 Shipped Motorcycles    95    S10_1678         Baane Mini Imports       07-98 9555                  Erling Skakkes gate 78     Stavern       4110    Norway      Bergulfsen            Jonas   Medium\n",
            "       10318               46      94.74                1 4358.04 02-11-2019                   228 Shipped Motorcycles    95    S10_1678      Diecast Classics Inc.       2155551555                        7586 Pompton St.   Allentown      70267       USA              Yu            Kyung   Medium\n",
            "       10329               42     104.67                1 4396.14 15-11-2019                   216 Shipped Motorcycles    95    S10_1678          Land of Toys Inc.       2125557818                 897 Long Airport Avenue         NYC      10022       USA              Yu             Kwai   Medium\n",
            "       10341               41     188.73                9 7737.93 24-11-2019                   208 Shipped Motorcycles    95    S10_1678      Salzburg Collectables        6562-9555                             Geislweg 14    Salzburg       5020   Austria           Pipps            Georg    Large\n",
            "       10361               20      72.55               13 1451.00 17-12-2019                   186 Shipped Motorcycles    95    S10_1678  Souveniers And Things Co.  +61 2 9495 8555 Monitor Money Building, 815 Pacific Hwy   Chatswood       2067 Australia          Huxley           Adrian    Small\n",
            "\n",
            "Generate Python code using matplotlib if this query ask for graaphs/charts\n",
            "query: \"which country buy more cars\"\n",
            "if not asking for graphs/charts then just answer the question relevent to the dataset.\n",
            "\n",
            "NOTE:Do not include citations or sources and decorative explanations.Just return the code.Full dataset available at 'data.csv'.\n",
            "\n",
            "response:\n",
            "GenerateContentResponse(\n",
            "    done=True,\n",
            "    iterator=None,\n",
            "    result=protos.GenerateContentResponse({\n",
            "      \"candidates\": [\n",
            "        {\n",
            "          \"content\": {\n",
            "            \"parts\": [\n",
            "              {\n",
            "                \"text\": \"```python\\nimport pandas as pd\\nimport matplotlib.pyplot as plt\\n\\ndata = pd.read_csv('data.csv')\\n\\ncountry_counts = data['COUNTRY'].value_counts()\\n\\nplt.figure(figsize=(10, 6))\\ncountry_counts.plot(kind='bar')\\nplt.xlabel('Country')\\nplt.ylabel('Number of Orders')\\nplt.title('Number of Orders by Country')\\nplt.xticks(rotation=45, ha='right')\\nplt.tight_layout()\\nplt.show()\\n\\n```\\n\"\n",
            "              }\n",
            "            ],\n",
            "            \"role\": \"model\"\n",
            "          },\n",
            "          \"finish_reason\": \"STOP\",\n",
            "          \"avg_logprobs\": -0.022373670339584352\n",
            "        }\n",
            "      ],\n",
            "      \"usage_metadata\": {\n",
            "        \"prompt_token_count\": 3485,\n",
            "        \"candidates_token_count\": 120,\n",
            "        \"total_token_count\": 3605\n",
            "      }\n",
            "    }),\n",
            ")\n"
          ]
        }
      ],
      "source": [
        "import os\n",
        "import google.generativeai as genai\n",
        "import pandas as pd\n",
        "\n",
        "\n",
        "\n",
        "\n",
        "genai.configure(api_key=\"\")\n",
        "\n",
        "# Create the model\n",
        "generation_config = {\n",
        "  \"temperature\": 1,\n",
        "  \"top_p\": 0.95,\n",
        "  \"top_k\": 40,\n",
        "  \"max_output_tokens\": 8192,\n",
        "  \"response_mime_type\": \"text/plain\",\n",
        "}\n",
        "\n",
        "model = genai.GenerativeModel(\n",
        "  model_name=\"gemini-1.5-flash\",\n",
        "  generation_config=generation_config,\n",
        ")\n",
        "\n",
        "chat_session = model.start_chat(\n",
        "  history=[\n",
        "  ]\n",
        ")\n",
        "# Load the CSV dataset\n",
        "csv_path = '/content/sample_data/data.csv'  # Change this to your actual file path\n",
        "dataset = pd.read_csv(csv_path)\n",
        "\n",
        "# Ensure the dataset has 'date' and 'sales' columns (adjust as necessary)\n",
        "# Assuming the dataset has at least these two columns: 'date' and 'sales'\n",
        "\n",
        "# Convert dataset to a string representation for the model\n",
        "dataset_str = dataset.head(20).to_string(index=False)  # Optional: show only a small sample of the dataset\n",
        "user_query = input(\"enter your query: \")\n",
        "# Query to generate Python code for a line graph\n",
        "query = f\"\"\"\n",
        "dataset insights:\n",
        "{dataset.info()}\n",
        "{dataset.describe(include='all')}\n",
        "\n",
        "Dataset:\n",
        "\n",
        "{dataset_str}\n",
        "\n",
        "Generate Python code using matplotlib if this query ask for graaphs/charts\n",
        "query: \"{user_query}\"\n",
        "if not asking for graphs/charts then just answer the question relevent to the dataset.\n",
        "\n",
        "NOTE:Do not include citations or sources and decorative explanations.Just return the code.Full dataset available at 'data.csv'.\n",
        "\"\"\"\n",
        "\n",
        "print(query)\n",
        "# Get the response from the model\n",
        "response = chat_session.send_message(query)\n",
        "\n",
        "fh = open(\"cd.py\", \"w\")\n",
        "fo = response.text\n",
        "fo = fo.replace(\"```python\", \"\\n\").replace(\"```\", \"\\n\")\n",
        "fh.write(fo)\n",
        "fh.close()\n",
        "os.system(\"python cd.py\")\n",
        "\n",
        "\n",
        "print(response)"
      ]
    },
    {
      "cell_type": "markdown",
      "metadata": {
        "id": "9c9d345e9868"
      },
      "source": [
        "<table class=\"tfo-notebook-buttons\" align=\"left\">\n",
        "  <td>\n",
        "    <a target=\"_blank\" href=\"https://ai.google.dev/gemini-api/docs\"><img src=\"https://ai.google.dev/static/site-assets/images/docs/notebook-site-button.png\" height=\"32\" width=\"32\" />Docs on ai.google.dev</a>\n",
        "  </td>\n",
        "  <td>\n",
        "    <a target=\"_blank\" href=\"https://github.com/google-gemini/cookbook/blob/main/quickstarts\"><img src=\"https://www.tensorflow.org/images/GitHub-Mark-32px.png\" />More notebooks in the Cookbook</a>\n",
        "  </td>\n",
        "</table>"
      ]
    }
  ],
  "metadata": {
    "colab": {
      "collapsed_sections": [
        "Tce3stUlHN0L"
      ],
      "name": "aistudio_gemini_prompt_freeform.ipynb",
      "provenance": [],
      "include_colab_link": true
    },
    "kernelspec": {
      "display_name": "Python 3",
      "name": "python3"
    }
  },
  "nbformat": 4,
  "nbformat_minor": 0
}
